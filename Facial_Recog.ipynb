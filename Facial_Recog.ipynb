{
  "nbformat": 4,
  "nbformat_minor": 0,
  "metadata": {
    "colab": {
      "name": "Facial Recog",
      "version": "0.3.2",
      "provenance": [],
      "include_colab_link": true
    },
    "kernelspec": {
      "name": "python3",
      "display_name": "Python 3"
    }
  },
  "cells": [
    {
      "cell_type": "markdown",
      "metadata": {
        "id": "view-in-github",
        "colab_type": "text"
      },
      "source": [
        "<a href=\"https://colab.research.google.com/github/dpmaloney/miscprojects/blob/master/Facial_Recog.ipynb\" target=\"_parent\"><img src=\"https://colab.research.google.com/assets/colab-badge.svg\" alt=\"Open In Colab\"/></a>"
      ]
    },
    {
      "cell_type": "code",
      "metadata": {
        "id": "VNmkkOzF0qVJ",
        "colab_type": "code",
        "colab": {}
      },
      "source": [
        "import sys\n",
        "import dlib\n",
        "from skimage import io\n",
        "import urllib"
      ],
      "execution_count": 0,
      "outputs": []
    },
    {
      "cell_type": "code",
      "metadata": {
        "id": "OX0R4F9n0vr5",
        "colab_type": "code",
        "colab": {}
      },
      "source": [
        "urllib.request.urlretrieve(\"https://hips.hearstapps.com/hmg-prod.s3.amazonaws.com/images/prince-charles-birthday-portrait-1542209906.jpg\", \"family.jpg\")\n",
        "\n",
        "faces_photo = \"family.jpg\""
      ],
      "execution_count": 0,
      "outputs": []
    },
    {
      "cell_type": "code",
      "metadata": {
        "id": "7SLf_CZD1eUK",
        "colab_type": "code",
        "outputId": "867a88ba-039a-4e9f-f066-bc2d73245dc3",
        "colab": {
          "base_uri": "https://localhost:8080/",
          "height": 187
        }
      },
      "source": [
        "face_detector = dlib.get_frontal_face_detector()\n",
        "\n",
        "# Load the image into an array\n",
        "image = io.imread(faces_photo)\n",
        "\n",
        "# Run the HOG face detector on the image data.\n",
        "# The result will be the bounding boxes of the faces in our image.\n",
        "detected_faces = face_detector(image, 1)\n",
        "\n",
        "print(\"I found {} faces in the file {}\".format(len(detected_faces), faces_photo))\n",
        "\n",
        "# Loop through each face we found in the image\n",
        "for i, face_rect in enumerate(detected_faces):\n",
        "\n",
        "\t# Detected faces are returned as an object with the coordinates \n",
        "\t# of the top, left, right and bottom edges\n",
        "\tprint(\"- Face #{} found at Left: {} Top: {} Right: {} Bottom: {}\".format(i, face_rect.left(), face_rect.top(), face_rect.right(), face_rect.bottom()))\n",
        "\t        "
      ],
      "execution_count": 0,
      "outputs": [
        {
          "output_type": "stream",
          "text": [
            "I found 9 faces in the file family.jpg\n",
            "- Face #0 found at Left: 171 Top: 196 Right: 245 Bottom: 271\n",
            "- Face #1 found at Left: 370 Top: 146 Right: 444 Bottom: 221\n",
            "- Face #2 found at Left: 776 Top: 237 Right: 851 Bottom: 312\n",
            "- Face #3 found at Left: 619 Top: 177 Right: 681 Bottom: 239\n",
            "- Face #4 found at Left: 312 Top: 428 Right: 386 Bottom: 503\n",
            "- Face #5 found at Left: 717 Top: 620 Right: 769 Bottom: 671\n",
            "- Face #6 found at Left: 211 Top: 495 Right: 273 Bottom: 557\n",
            "- Face #7 found at Left: 544 Top: 470 Right: 619 Bottom: 544\n",
            "- Face #8 found at Left: 250 Top: 303 Right: 302 Bottom: 355\n"
          ],
          "name": "stdout"
        }
      ]
    }
  ]
}